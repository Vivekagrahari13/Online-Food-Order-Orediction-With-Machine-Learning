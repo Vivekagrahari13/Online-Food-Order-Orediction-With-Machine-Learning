#1
import numpy as np
import pandas as pd
import plotly.express as px
import plotly.graph_objects as go
import matplotlib.pyplot as plt
import seaborn as sns

from sklearn.preprocessing import LabelEncoder
from sklearn.metrics import confusion_matrix, classification_report, ConfusionMatrixDisplay

#2
from google.colab import drive
drive.mount('/content/drive')

#3
import os

# List files and directories in the specified directory
directory_path = '/content/drive/MyDrive/Project7thSem'
print(os.listdir(directory_path))

#4
import pandas as pd

file_path = '/content/drive/MyDrive/Project7thSem/ProjectFolder/onlinefoods.csv'
df = pd.read_csv(file_path)
df.head()

#5
sns.set_theme(style="whitegrid")

#6
print(df.info())

#7
plt.figure(figsize=(15, 10))
plt.title("Online Food Order Decisions Based on the Age of the Customer")
sns.histplot(x="Age", hue="Output", data=df)
plt.show()

#8
buying_again_data = df.query("Output == 'Yes'")
buying_again_data

#9
gender = buying_again_data["Gender"].value_counts()
data = gender.values
label = gender.index

colors = sns.color_palette('pastel')[0:5]
plt.figure(figsize=(10, 10))
plt.title("Observing Based on Gender")
#create pie chart
plt.pie(data, labels = label, colors = colors, autopct='%.0f%%')
plt.show()

#10
marital = buying_again_data["Marital Status"].value_counts()
label = marital.index
data = marital.values

colors = sns.color_palette('pastel')[0:5]
plt.figure(figsize=(10, 10))
plt.title("Maritial Status: Single VS Married")
#create pie chart
plt.pie(data, labels = label, colors = colors, autopct='%.0f%%')
plt.show()

#11
feedback = buying_again_data["Feedback"].value_counts()
label = feedback.index
data = feedback.values

colors = sns.color_palette('pastel')[0:5]
plt.figure(figsize=(10, 10))
plt.title("FeedBack : Positive OR Negative")

#create pie chart
plt.pie(data, labels = label, colors = colors, autopct='%.0f%%')
plt.show()

#12
cols = ['Gender', 'Marital Status','Output','Monthly Income']

df[cols] = df[cols].apply(LabelEncoder().fit_transform)
df.head()

#13
from sklearn.model_selection import train_test_split
X_train, X_test, y_train, y_test = train_test_split(X, y, test_size=0.33, random_state=42)
print(len(X_train))
print(len(X_test))
print(len(y_train))
print(len(y_test))


#14
from sklearn.linear_model import LogisticRegression

#15
logmodel = LogisticRegression()
logmodel.fit(X_train,y_train)

#16
y_pred1 = logmodel.predict(X_test)
y_pred1

#17
y_test

#18
print(classification_report(y_test,y_pred1))

#19
cm = confusion_matrix(y_test,y_pred1)
print(cm)
target_names = ['order','not order']
disp = ConfusionMatrixDisplay(confusion_matrix=cm, display_labels=target_names)
fig, ax = plt.subplots(figsize=(8,6))
disp.plot(ax=ax,cmap='Blues')

#20 Naive Byes
from sklearn.naive_bayes import BernoulliNB
BNBmodel = BernoulliNB()
BNBmodel.fit(X_train, y_train)

#21
y_pred2 = BNBmodel.predict(X_test)
y_pred2

#22
y_test

#23
print(classification_report(y_test,y_pred2))

#24
cm = confusion_matrix(y_test,y_pred2)
print(cm)
target_names = ['order','not order']
disp = ConfusionMatrixDisplay(confusion_matrix=cm, display_labels=target_names)
fig, ax = plt.subplots(figsize=(8,6))
disp.plot(ax=ax,cmap='Blues')


#25 SVM
from sklearn.svm import SVC
SVCmodel = SVC()
SVCmodel.fit(X_train, y_train)

#26
y_pred3 = SVCmodel.predict(X_test)
y_pred3

#27
print(classification_report(y_test,y_pred3))

#28
cm = confusion_matrix(y_test,y_pred3)
print(cm)
target_names = ['order','not order']
disp = ConfusionMatrixDisplay(confusion_matrix=cm, display_labels=target_names)
fig, ax = plt.subplots(figsize=(8,6))
disp.plot(ax=ax,cmap='Blues')

#29 Random Forest Algorithm
from sklearn.ensemble import RandomForestClassifier
Rmodel = RandomForestClassifier()
Rmodel.fit(X_train, y_train)

#30
y_pred4 = Rmodel.predict(X_test)
y_pred4

#31
print(classification_report(y_test,y_pred4))

#32
cm = confusion_matrix(y_test,y_pred4)
print(cm)
target_names = ['order','not order']
disp = ConfusionMatrixDisplay(confusion_matrix=cm, display_labels=target_names)
fig, ax = plt.subplots(figsize=(8,6))
disp.plot(ax=ax,cmap='Blues')





